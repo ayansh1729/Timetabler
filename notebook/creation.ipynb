{
 "cells": [
  {
   "cell_type": "code",
   "execution_count": 1,
   "metadata": {},
   "outputs": [],
   "source": [
    "import pandas as pd"
   ]
  },
  {
   "cell_type": "code",
   "execution_count": 2,
   "metadata": {},
   "outputs": [],
   "source": [
    "# Define the days and time slots\n",
    "days = ['Monday', 'Tuesday', 'Wednesday', 'Thursday', 'Friday']\n",
    "time_slots = [\n",
    "    '9:00-10:00', '10:00-11:00', '11:00-12:00',\n",
    "    '12:00-1:00 (Recess)', '1:00-2:00', '2:00-3:00',\n",
    "    '3:00-4:00', '4:00-5:00'\n",
    "]"
   ]
  },
  {
   "cell_type": "code",
   "execution_count": 3,
   "metadata": {},
   "outputs": [],
   "source": [
    "timetable = {day: [''] * len(time_slots) for day in days}\n",
    "\n",
    "# Sample data (to be filled in with real scheduling logic)\n",
    "timetable['Monday'][0] = 'Math'\n",
    "timetable['Tuesday'][1] = 'Physics'\n",
    "timetable['Wednesday'][2] = 'Chemistry'\n",
    "timetable['Thursday'][4] = 'Biology'\n",
    "timetable['Friday'][5] = 'English'"
   ]
  },
  {
   "cell_type": "code",
   "execution_count": 4,
   "metadata": {},
   "outputs": [
    {
     "name": "stdout",
     "output_type": "stream",
     "text": [
      "          9:00-10:00 10:00-11:00 11:00-12:00 12:00-1:00 (Recess) 1:00-2:00  \\\n",
      "Monday          Math                                                         \n",
      "Tuesday                  Physics                                             \n",
      "Wednesday                          Chemistry                                 \n",
      "Thursday                                                           Biology   \n",
      "Friday                                                                       \n",
      "\n",
      "          2:00-3:00 3:00-4:00 4:00-5:00  \n",
      "Monday                                   \n",
      "Tuesday                                  \n",
      "Wednesday                                \n",
      "Thursday                                 \n",
      "Friday      English                      \n"
     ]
    }
   ],
   "source": [
    "def print_timetable(timetable, time_slots):\n",
    "    df = pd.DataFrame(timetable, index=time_slots)\n",
    "    print(df.T)\n",
    "\n",
    "print_timetable(timetable, time_slots)"
   ]
  }
 ],
 "metadata": {
  "kernelspec": {
   "display_name": "env",
   "language": "python",
   "name": "python3"
  },
  "language_info": {
   "codemirror_mode": {
    "name": "ipython",
    "version": 3
   },
   "file_extension": ".py",
   "mimetype": "text/x-python",
   "name": "python",
   "nbconvert_exporter": "python",
   "pygments_lexer": "ipython3",
   "version": "3.11.9"
  }
 },
 "nbformat": 4,
 "nbformat_minor": 2
}
